{
 "cells": [
  {
   "cell_type": "code",
   "execution_count": 1,
   "metadata": {},
   "outputs": [],
   "source": [
    "import pandas as pd\n",
    "import numpy as np "
   ]
  },
  {
   "cell_type": "code",
   "execution_count": 75,
   "metadata": {},
   "outputs": [],
   "source": [
    "# WARNINGS #\n",
    "# kwargs must not have keys that are not acceptable by pd.DataFrame \n",
    "\n",
    "class Dataset(pd.DataFrame):\n",
    "    def __init__(self, data=None, disc='', **kwargs):\n",
    "        super(Dataset, self).__init__(data=data, **kwargs)\n",
    "        self.disc = disc\n",
    "    \n",
    "    def info(self, text='None'):\n",
    "        return 'Hello ' + text\n",
    "    \n",
    "    @property\n",
    "    def bgImages(self, x=None):\n",
    "        if x is None: return self[self.bg]\n",
    "        return self[self.bg & self.x==x]\n",
    "    \n",
    "    @property\n",
    "    def dataImages(self, x=None):\n",
    "        if x is None: return self[~self.bg]\n",
    "        return self[~self.bg & self.x==x]"
   ]
  },
  {
   "cell_type": "markdown",
   "metadata": {},
   "source": [
    "## Tests"
   ]
  },
  {
   "cell_type": "code",
   "execution_count": 67,
   "metadata": {},
   "outputs": [
    {
     "name": "stdout",
     "output_type": "stream",
     "text": [
      "Empty Dataset\n",
      "Columns: []\n",
      "Index: []\n",
      "<class '__main__.Dataset'>\n"
     ]
    },
    {
     "data": {
      "text/html": [
       "<div>\n",
       "<style scoped>\n",
       "    .dataframe tbody tr th:only-of-type {\n",
       "        vertical-align: middle;\n",
       "    }\n",
       "\n",
       "    .dataframe tbody tr th {\n",
       "        vertical-align: top;\n",
       "    }\n",
       "\n",
       "    .dataframe thead th {\n",
       "        text-align: right;\n",
       "    }\n",
       "</style>\n",
       "<table border=\"1\" class=\"dataframe\">\n",
       "  <thead>\n",
       "    <tr style=\"text-align: right;\">\n",
       "      <th></th>\n",
       "    </tr>\n",
       "  </thead>\n",
       "  <tbody>\n",
       "  </tbody>\n",
       "</table>\n",
       "</div>"
      ],
      "text/plain": [
       "Empty Dataset\n",
       "Columns: []\n",
       "Index: []"
      ]
     },
     "execution_count": 67,
     "metadata": {},
     "output_type": "execute_result"
    }
   ],
   "source": [
    "# Creating dataframes \n",
    "ds = Dataset()\n",
    "print(ds)\n",
    "print(type(ds))\n",
    "ds"
   ]
  },
  {
   "cell_type": "code",
   "execution_count": 68,
   "metadata": {},
   "outputs": [
    {
     "name": "stdout",
     "output_type": "stream",
     "text": [
      "  arange range text\n",
      "0      0     0    A\n",
      "1      1     1    A\n"
     ]
    }
   ],
   "source": [
    "ds = Dataset(data=np.array([np.arange(10), range(10), ['A']*10]).T, columns=['arange', 'range', 'text'])\n",
    "print(ds.head(2))"
   ]
  },
  {
   "cell_type": "code",
   "execution_count": 69,
   "metadata": {},
   "outputs": [
    {
     "data": {
      "text/plain": [
       "'Hello Hi'"
      ]
     },
     "execution_count": 69,
     "metadata": {},
     "output_type": "execute_result"
    }
   ],
   "source": [
    "ds.info('Hi')"
   ]
  },
  {
   "cell_type": "code",
   "execution_count": 74,
   "metadata": {},
   "outputs": [
    {
     "name": "stdout",
     "output_type": "stream",
     "text": [
      "Hello\n",
      "  arange range text\n",
      "0      0     0    A\n",
      "1      1     1    A\n"
     ]
    }
   ],
   "source": [
    "ds = Dataset(data=np.array([np.arange(10), range(10), ['A']*10]).T, columns=['arange', 'range', 'text'], disc='Hello')\n",
    "print(ds.disc)\n",
    "print(ds.head(2))"
   ]
  },
  {
   "cell_type": "code",
   "execution_count": null,
   "metadata": {},
   "outputs": [],
   "source": []
  },
  {
   "cell_type": "code",
   "execution_count": null,
   "metadata": {},
   "outputs": [],
   "source": []
  }
 ],
 "metadata": {
  "kernelspec": {
   "display_name": "Python 3",
   "language": "python",
   "name": "python3"
  },
  "language_info": {
   "codemirror_mode": {
    "name": "ipython",
    "version": 3
   },
   "file_extension": ".py",
   "mimetype": "text/x-python",
   "name": "python",
   "nbconvert_exporter": "python",
   "pygments_lexer": "ipython3",
   "version": "3.7.7"
  }
 },
 "nbformat": 4,
 "nbformat_minor": 4
}
