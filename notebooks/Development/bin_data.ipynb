{
 "cells": [
  {
   "cell_type": "code",
   "execution_count": 1,
   "metadata": {},
   "outputs": [
    {
     "name": "stdout",
     "output_type": "stream",
     "text": [
      "The servers are not connected!\n",
      "Using the local database copy. Could be outdated!\n"
     ]
    }
   ],
   "source": [
    "import numpy as np\n",
    "import matplotlib.pyplot as plt\n",
    "%matplotlib inline \n",
    "import pandas as pd\n",
    "import therpy as tp"
   ]
  },
  {
   "cell_type": "code",
   "execution_count": 28,
   "metadata": {
    "collapsed": true
   },
   "outputs": [],
   "source": [
    "# bin_data class \n",
    "class bin_data:\n",
    "    '''\n",
    "    Binning data with same x values\n",
    "    ===============================\n",
    "    \n",
    "    Properties : self.xxxx\n",
    "        xi, yi\n",
    "        x : unique values of xi in increasing order \n",
    "        y : mean value at x \n",
    "        ynum : number of points at x\n",
    "        ybin : list of points at x \n",
    "        ystd : np.std at x \n",
    "        yerr : ystd/sqrt(ynum), standard error of the mean \n",
    "        data : (x, y)\n",
    "        std : (x, y, ystd)\n",
    "        err : (x, y, yerr)\n",
    "        all : (xi, yi)\n",
    "    '''\n",
    "    def __init__(self, xi, yi, ):\n",
    "        x = np.unique(xi)\n",
    "        ybin = [yi[xi == x_i] for x_i in x]\n",
    "        ynum = np.array([len(y_i) for y_i in ybin])\n",
    "        y = np.array([np.mean(y_i) for y_i in ybin])\n",
    "        ystd = np.array([np.std(y_i) for y_i in ybin])\n",
    "        yerr = ystd / np.sqrt(ynum)\n",
    "        \n",
    "        # Store \n",
    "        self.xi = xi\n",
    "        self.yi = yi\n",
    "        self.x = x\n",
    "        self.y = y\n",
    "        self.ybin = ybin\n",
    "        self.ynum = ynum\n",
    "        self.ystd = ystd\n",
    "        self.yerr = yerr\n",
    "        self.data = (x, y)\n",
    "        self.std = (x, y, ystd)\n",
    "        self.err = (x, y, yerr)\n",
    "        self.all = (xi, yi)"
   ]
  },
  {
   "cell_type": "code",
   "execution_count": null,
   "metadata": {
    "collapsed": true
   },
   "outputs": [],
   "source": []
  },
  {
   "cell_type": "code",
   "execution_count": 29,
   "metadata": {},
   "outputs": [],
   "source": [
    "# Sample Data \n",
    "xi = np.array([0,0,1,2,3,2,5,2,4,6,2,4,5,1,1,0,2,3,2,1,4,5,2,3,1,0,0,2])\n",
    "yi = np.sin(xi) + np.random.normal(scale=0.3, size=xi.shape)"
   ]
  },
  {
   "cell_type": "code",
   "execution_count": 30,
   "metadata": {},
   "outputs": [
    {
     "data": {
      "text/plain": [
       "<__main__.bin_data at 0x1a172f6048>"
      ]
     },
     "execution_count": 30,
     "metadata": {},
     "output_type": "execute_result"
    }
   ],
   "source": [
    "bin_data(xi, yi)"
   ]
  },
  {
   "cell_type": "code",
   "execution_count": 27,
   "metadata": {},
   "outputs": [
    {
     "ename": "NameError",
     "evalue": "name 'self' is not defined",
     "output_type": "error",
     "traceback": [
      "\u001b[0;31m---------------------------------------------------------------------------\u001b[0m",
      "\u001b[0;31mNameError\u001b[0m                                 Traceback (most recent call last)",
      "\u001b[0;32m<ipython-input-27-768f4c04297a>\u001b[0m in \u001b[0;36m<module>\u001b[0;34m()\u001b[0m\n\u001b[1;32m      7\u001b[0m \u001b[0;34m\u001b[0m\u001b[0m\n\u001b[1;32m      8\u001b[0m \u001b[0;31m# Store\u001b[0m\u001b[0;34m\u001b[0m\u001b[0;34m\u001b[0m\u001b[0m\n\u001b[0;32m----> 9\u001b[0;31m \u001b[0mself\u001b[0m\u001b[0;34m.\u001b[0m\u001b[0mxi\u001b[0m \u001b[0;34m=\u001b[0m \u001b[0mxi\u001b[0m\u001b[0;34m\u001b[0m\u001b[0m\n\u001b[0m\u001b[1;32m     10\u001b[0m \u001b[0mself\u001b[0m\u001b[0;34m.\u001b[0m\u001b[0myi\u001b[0m \u001b[0;34m=\u001b[0m \u001b[0myi\u001b[0m\u001b[0;34m\u001b[0m\u001b[0m\n\u001b[1;32m     11\u001b[0m \u001b[0mself\u001b[0m\u001b[0;34m.\u001b[0m\u001b[0mx\u001b[0m \u001b[0;34m=\u001b[0m \u001b[0mx\u001b[0m\u001b[0;34m\u001b[0m\u001b[0m\n",
      "\u001b[0;31mNameError\u001b[0m: name 'self' is not defined"
     ]
    }
   ],
   "source": [
    "x = np.unique(xi)\n",
    "ybin = [yi[xi == x_i] for x_i in x]\n",
    "ynum = np.array([len(y_i) for y_i in ybin])\n",
    "y = np.array([np.mean(y_i) for y_i in ybin])\n",
    "ystd = np.array([np.std(y_i) for y_i in ybin])\n",
    "yerr = ystd / np.sqrt(ynum)\n",
    "\n",
    "# Store \n",
    "self.xi = xi\n",
    "self.yi = yi\n",
    "self.x = x\n",
    "self.y = y\n",
    "self.ybin = ybin\n",
    "self.ynum = ynum\n",
    "self.ystd = ystd\n",
    "self.yerr = yerr\n",
    "self.data = (x, y)\n",
    "self.std = (x, y, ystd)\n",
    "self.err = (x, y, yerr)\n",
    "self.all = (xi, yi)"
   ]
  },
  {
   "cell_type": "code",
   "execution_count": 20,
   "metadata": {},
   "outputs": [
    {
     "data": {
      "text/plain": [
       "[<matplotlib.lines.Line2D at 0x1a1716b390>]"
      ]
     },
     "execution_count": 20,
     "metadata": {},
     "output_type": "execute_result"
    },
    {
     "data": {
      "image/png": "[encoded data removed]",
      "text/plain": [
       "<matplotlib.figure.Figure at 0x1a13d02a90>"
      ]
     },
     "metadata": {},
     "output_type": "display_data"
    }
   ],
   "source": [
    "plt.plot(xi, yi, '.')"
   ]
  },
  {
   "cell_type": "code",
   "execution_count": null,
   "metadata": {
    "collapsed": true
   },
   "outputs": [],
   "source": []
  },
  {
   "cell_type": "code",
   "execution_count": null,
   "metadata": {
    "collapsed": true
   },
   "outputs": [],
   "source": []
  },
  {
   "cell_type": "code",
   "execution_count": null,
   "metadata": {
    "collapsed": true
   },
   "outputs": [],
   "source": []
  },
  {
   "cell_type": "code",
   "execution_count": null,
   "metadata": {
    "collapsed": true
   },
   "outputs": [],
   "source": []
  },
  {
   "cell_type": "code",
   "execution_count": null,
   "metadata": {
    "collapsed": true
   },
   "outputs": [],
   "source": []
  }
 ],
 "metadata": {
  "kernelspec": {
   "display_name": "Python 3",
   "language": "python",
   "name": "python3"
  },
  "language_info": {
   "codemirror_mode": {
    "name": "ipython",
    "version": 3
   },
   "file_extension": ".py",
   "mimetype": "text/x-python",
   "name": "python",
   "nbconvert_exporter": "python",
   "pygments_lexer": "ipython3",
   "version": "3.6.3"
  },
  "toc": {
   "nav_menu": {},
   "number_sections": true,
   "sideBar": true,
   "skip_h1_title": false,
   "toc_cell": false,
   "toc_position": {},
   "toc_section_display": "block",
   "toc_window_display": false
  }
 },
 "nbformat": 4,
 "nbformat_minor": 2
}
