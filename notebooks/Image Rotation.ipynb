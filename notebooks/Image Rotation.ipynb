{
 "cells": [
  {
   "cell_type": "code",
   "execution_count": 2,
   "metadata": {},
   "outputs": [],
   "source": [
    "import numpy as np \n",
    "import scipy.interpolate \n",
    "import matplotlib.pyplot as plt \n",
    "%matplotlib inline "
   ]
  },
  {
   "cell_type": "code",
   "execution_count": 23,
   "metadata": {},
   "outputs": [],
   "source": [
    "# Rotation, inputs are X, Y, Z, func theta(r) \n",
    "def rotateImageBy(theta, X, Y, Z):\n",
    "    '''\n",
    "    Inputs : \n",
    "        theta must be a function whose inputs is a radius and outputs theta at that radius \n",
    "        X, Y are 2D grids \n",
    "        Z is the image data, also 2D grid \n",
    "    '''\n",
    "    # Preparation \n",
    "    R = np.sqrt(X**2 + Y**2) # 2D radius \n",
    "    thetaInitial = np.arctan2(Y, X) # initial angle \n",
    "    xx = X.flatten() # flatten all 2D array into 1D \n",
    "    yy = Y.flatten() \n",
    "    zz = Z.flatten() \n",
    "    rr = R.flatten() \n",
    "    ti = thetaInitial.flatten() \n",
    "    # Calculate rotated angle \n",
    "    xf = rr * np.cos(ti + theta(rr))\n",
    "    yf = rr * np.sin(ti + theta(rr))\n",
    "    zf_calculator = scipy.interpolate.interp2d(xf, yf, zz)\n",
    "    return zf_calculator"
   ]
  },
  {
   "cell_type": "code",
   "execution_count": 44,
   "metadata": {},
   "outputs": [
    {
     "data": {
      "image/png": "[encoded data removed]",
      "text/plain": [
       "<Figure size 720x360 with 2 Axes>"
      ]
     },
     "metadata": {
      "needs_background": "light"
     },
     "output_type": "display_data"
    }
   ],
   "source": [
    "# Test 1 : rotation by constant amount : Try different amounts\n",
    "# Screws up for -pi/4 for some reason \n",
    "# pi/2 looks a bit strange at some place \n",
    "x = np.linspace(-2, 2, 50)\n",
    "y = np.linspace(-2, 2, 50)\n",
    "X, Y = np.meshgrid(x, y)\n",
    "Z = X.copy() \n",
    "def theta(r): \n",
    "    # reason for ones_like is to make sure output has same length as inputted r \n",
    "    return 3*np.pi/4 * np.ones_like(r)\n",
    "Zr_calculator = rotateImageBy(theta, X, Y, Z)\n",
    "\n",
    "# New grid \n",
    "xr = np.linspace(-1.5, 1.5, 50)\n",
    "yr = np.linspace(-1, 1, 50)\n",
    "Xr, Yr = np.meshgrid(xr, yr)\n",
    "Zr = Zr_calculator(xr, yr) # Note this takes 1D arrays \n",
    "\n",
    "# Plots \n",
    "fig, ax = plt.subplots(ncols=2, figsize=[10, 5])\n",
    "ax[0].pcolor(X, Y, Z)\n",
    "ax[0].set_aspect('equal')\n",
    "ax[1].pcolor(Xr, Yr, Zr)\n",
    "ax[1].set_aspect('equal')"
   ]
  },
  {
   "cell_type": "code",
   "execution_count": 53,
   "metadata": {},
   "outputs": [
    {
     "data": {
      "image/png": "[encoded data removed]",
      "text/plain": [
       "<Figure size 720x360 with 2 Axes>"
      ]
     },
     "metadata": {
      "needs_background": "light"
     },
     "output_type": "display_data"
    }
   ],
   "source": [
    "# Test 2 : rotation by constant amount \n",
    "x = np.linspace(-2, 2, 50)\n",
    "y = np.linspace(-2, 2, 50)\n",
    "X, Y = np.meshgrid(x, y)\n",
    "Z = X.copy()\n",
    "def theta(r): \n",
    "    t = np.zeros_like(r)\n",
    "    t[(r>0.8) & (r<1.2)] = np.pi # only rotate in a strip \n",
    "    return t\n",
    "Zr_calculator = rotateImageBy(theta, X, Y, Z)\n",
    "\n",
    "# New grid \n",
    "xr = np.linspace(-2, 2, 50)\n",
    "yr = np.linspace(-2, 2, 50)\n",
    "Xr, Yr = np.meshgrid(xr, yr)\n",
    "Zr = Zr_calculator(xr, yr) # Note this takes 1D arrays \n",
    "\n",
    "# Plots \n",
    "fig, ax = plt.subplots(ncols=2, figsize=[10, 5])\n",
    "ax[0].pcolor(X, Y, Z)\n",
    "ax[0].set_aspect('equal')\n",
    "ax[1].pcolor(Xr, Yr, Zr)\n",
    "ax[1].set_aspect('equal')"
   ]
  },
  {
   "cell_type": "code",
   "execution_count": null,
   "metadata": {},
   "outputs": [],
   "source": []
  },
  {
   "cell_type": "code",
   "execution_count": null,
   "metadata": {},
   "outputs": [],
   "source": []
  }
 ],
 "metadata": {
  "kernelspec": {
   "display_name": "Python 3",
   "language": "python",
   "name": "python3"
  },
  "language_info": {
   "codemirror_mode": {
    "name": "ipython",
    "version": 3
   },
   "file_extension": ".py",
   "mimetype": "text/x-python",
   "name": "python",
   "nbconvert_exporter": "python",
   "pygments_lexer": "ipython3",
   "version": "3.7.7"
  },
  "toc": {
   "base_numbering": 1,
   "nav_menu": {},
   "number_sections": true,
   "sideBar": true,
   "skip_h1_title": false,
   "title_cell": "Table of Contents",
   "title_sidebar": "Contents",
   "toc_cell": false,
   "toc_position": {},
   "toc_section_display": true,
   "toc_window_display": false
  }
 },
 "nbformat": 4,
 "nbformat_minor": 4
}
